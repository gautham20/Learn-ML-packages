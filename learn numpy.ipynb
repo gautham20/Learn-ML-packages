{
 "cells": [
  {
   "cell_type": "code",
   "execution_count": 1,
   "metadata": {
    "collapsed": true
   },
   "outputs": [],
   "source": [
    "%matplotlib inline\n",
    "import numpy as np\n",
    "import pandas as pd\n",
    "import matplotlib\n",
    "import matplotlib.pyplot as plt\n",
    "import random "
   ]
  },
  {
   "cell_type": "code",
   "execution_count": 14,
   "metadata": {
    "collapsed": true
   },
   "outputs": [],
   "source": [
    "np.set_printoptions(4, suppress=True)"
   ]
  },
  {
   "cell_type": "markdown",
   "metadata": {},
   "source": [
    "<h2> ndarray </h2>"
   ]
  },
  {
   "cell_type": "code",
   "execution_count": 6,
   "metadata": {
    "collapsed": false
   },
   "outputs": [],
   "source": [
    "data1 = random.sample(range(1,100),10)\n",
    "data2 = [1,5,3.4,7.8,43,2.4]"
   ]
  },
  {
   "cell_type": "code",
   "execution_count": 12,
   "metadata": {
    "collapsed": false
   },
   "outputs": [
    {
     "data": {
      "text/plain": [
       "array([37, 22, 80, 86, 85, 94, 20, 14, 15, 57])"
      ]
     },
     "execution_count": 12,
     "metadata": {},
     "output_type": "execute_result"
    }
   ],
   "source": [
    "nda1 = np.array(data1)\n",
    "nda2 = np.array(data2)\n",
    "nda1\n"
   ]
  },
  {
   "cell_type": "code",
   "execution_count": 14,
   "metadata": {
    "collapsed": false
   },
   "outputs": [
    {
     "data": {
      "text/plain": [
       "numpy.ndarray"
      ]
     },
     "execution_count": 14,
     "metadata": {},
     "output_type": "execute_result"
    }
   ],
   "source": [
    "type(nda2)"
   ]
  },
  {
   "cell_type": "code",
   "execution_count": 16,
   "metadata": {
    "collapsed": false
   },
   "outputs": [
    {
     "data": {
      "text/plain": [
       "dtype('float64')"
      ]
     },
     "execution_count": 16,
     "metadata": {},
     "output_type": "execute_result"
    }
   ],
   "source": [
    "nda2.dtype"
   ]
  },
  {
   "cell_type": "code",
   "execution_count": 20,
   "metadata": {
    "collapsed": false
   },
   "outputs": [
    {
     "data": {
      "text/plain": [
       "(6,)"
      ]
     },
     "execution_count": 20,
     "metadata": {},
     "output_type": "execute_result"
    }
   ],
   "source": [
    "nda2.shape"
   ]
  },
  {
   "cell_type": "code",
   "execution_count": 24,
   "metadata": {
    "collapsed": false
   },
   "outputs": [
    {
     "data": {
      "text/plain": [
       "array([[1, 2, 3],\n",
       "       [4, 5, 6]])"
      ]
     },
     "execution_count": 24,
     "metadata": {},
     "output_type": "execute_result"
    }
   ],
   "source": [
    "nda3 = np.array([[1,2,3],[4,5,6]])\n",
    "nda3"
   ]
  },
  {
   "cell_type": "code",
   "execution_count": 26,
   "metadata": {
    "collapsed": false
   },
   "outputs": [
    {
     "data": {
      "text/plain": [
       "(2, 3)"
      ]
     },
     "execution_count": 26,
     "metadata": {},
     "output_type": "execute_result"
    }
   ],
   "source": [
    "nda3.shape"
   ]
  },
  {
   "cell_type": "markdown",
   "metadata": {},
   "source": [
    "<h3> others ways to create ndarray </h3>\n",
    "<h3>Function Description</h3>\n",
    "<dl>\n",
    "<dt>array </dt><dd>Convert input data (list, tuple, array, or other sequence type) to an ndarray either by\n",
    "inferring a dtype or explicitly specifying a dtype. Copies the input data by default.</dd>\n",
    "<dt>asarray </dt><dd>Convert input to ndarray, but do not copy if the input is already an ndarray</dd>\n",
    "<dt>arange </dt><dd>Like the built-in range but returns an ndarray instead of a list.</dd>\n",
    "<dt>ones, ones_like</dt><dd> Produce an array of all 1’s with the given shape and dtype. ones_like takes another </dd>\n",
    "array and produces a ones array of the same shape and dtype.\n",
    "<dt>zeros, zeros_like </dt><dd>Like ones and ones_like but producing arrays of 0’s instead</dd>\n",
    "</dl>"
   ]
  },
  {
   "cell_type": "code",
   "execution_count": 29,
   "metadata": {
    "collapsed": false
   },
   "outputs": [
    {
     "data": {
      "text/plain": [
       "array([0, 1, 2, 3, 4, 5, 6, 7, 8, 9])"
      ]
     },
     "execution_count": 29,
     "metadata": {},
     "output_type": "execute_result"
    }
   ],
   "source": [
    "nda4 = np.arange(10)\n",
    "nda4\n"
   ]
  },
  {
   "cell_type": "code",
   "execution_count": 32,
   "metadata": {
    "collapsed": false
   },
   "outputs": [
    {
     "data": {
      "text/plain": [
       "array([10,  9,  8,  7,  6,  5,  4,  3,  2])"
      ]
     },
     "execution_count": 32,
     "metadata": {},
     "output_type": "execute_result"
    }
   ],
   "source": [
    "nda4 = np.arange(10,1,-1)\n",
    "nda4"
   ]
  },
  {
   "cell_type": "code",
   "execution_count": 35,
   "metadata": {
    "collapsed": false
   },
   "outputs": [
    {
     "data": {
      "text/plain": [
       "array([[ 0.,  0.],\n",
       "       [ 0.,  0.]])"
      ]
     },
     "execution_count": 35,
     "metadata": {},
     "output_type": "execute_result"
    }
   ],
   "source": [
    "nda5 = np.zeros((2,2))\n",
    "nda5"
   ]
  },
  {
   "cell_type": "code",
   "execution_count": 38,
   "metadata": {
    "collapsed": false
   },
   "outputs": [
    {
     "data": {
      "text/plain": [
       "array([[[ 0.,  0.],\n",
       "        [ 0.,  0.]],\n",
       "\n",
       "       [[ 0.,  0.],\n",
       "        [ 0.,  0.]]])"
      ]
     },
     "execution_count": 38,
     "metadata": {},
     "output_type": "execute_result"
    }
   ],
   "source": [
    "nda5 = np.zeros((2,2,2))\n",
    "nda5"
   ]
  },
  {
   "cell_type": "code",
   "execution_count": 40,
   "metadata": {
    "collapsed": false
   },
   "outputs": [
    {
     "data": {
      "text/plain": [
       "array([[[ 1.,  1.,  1.,  1.],\n",
       "        [ 1.,  1.,  1.,  1.],\n",
       "        [ 1.,  1.,  1.,  1.]],\n",
       "\n",
       "       [[ 1.,  1.,  1.,  1.],\n",
       "        [ 1.,  1.,  1.,  1.],\n",
       "        [ 1.,  1.,  1.,  1.]]])"
      ]
     },
     "execution_count": 40,
     "metadata": {},
     "output_type": "execute_result"
    }
   ],
   "source": [
    "nda6 = np.ones((2,3,4))\n",
    "nda6"
   ]
  },
  {
   "cell_type": "markdown",
   "metadata": {},
   "source": [
    "<h3> data type of ndarray </h3>"
   ]
  },
  {
   "cell_type": "code",
   "execution_count": 44,
   "metadata": {
    "collapsed": false
   },
   "outputs": [
    {
     "data": {
      "text/plain": [
       "dtype('float64')"
      ]
     },
     "execution_count": 44,
     "metadata": {},
     "output_type": "execute_result"
    }
   ],
   "source": [
    "nda7 = np.array([[1.2,3,4],[5,6.78,9.3]])\n",
    "nda7.dtype"
   ]
  },
  {
   "cell_type": "code",
   "execution_count": 46,
   "metadata": {
    "collapsed": false
   },
   "outputs": [
    {
     "data": {
      "text/plain": [
       "array([[1, 3, 4],\n",
       "       [5, 6, 9]], dtype=int64)"
      ]
     },
     "execution_count": 46,
     "metadata": {},
     "output_type": "execute_result"
    }
   ],
   "source": [
    "nda7.astype('int64')"
   ]
  },
  {
   "cell_type": "code",
   "execution_count": 51,
   "metadata": {
    "collapsed": false
   },
   "outputs": [
    {
     "data": {
      "text/plain": [
       "array([['1.2', '3.0', '4.0'],\n",
       "       ['5.0', '6.78', '9.3']], \n",
       "      dtype='|S32')"
      ]
     },
     "execution_count": 51,
     "metadata": {},
     "output_type": "execute_result"
    }
   ],
   "source": [
    "nda8 = nda7.astype(np.string_)\n",
    "nda8"
   ]
  },
  {
   "cell_type": "code",
   "execution_count": 53,
   "metadata": {
    "collapsed": false
   },
   "outputs": [
    {
     "data": {
      "text/plain": [
       "dtype('S32')"
      ]
     },
     "execution_count": 53,
     "metadata": {},
     "output_type": "execute_result"
    }
   ],
   "source": [
    "nda8.dtype"
   ]
  },
  {
   "cell_type": "code",
   "execution_count": 57,
   "metadata": {
    "collapsed": false
   },
   "outputs": [
    {
     "data": {
      "text/plain": [
       "array([[ 1.2 ,  3.  ,  4.  ],\n",
       "       [ 5.  ,  6.78,  9.3 ]])"
      ]
     },
     "execution_count": 57,
     "metadata": {},
     "output_type": "execute_result"
    }
   ],
   "source": [
    "nda8.astype(np.float64)"
   ]
  },
  {
   "cell_type": "markdown",
   "metadata": {},
   "source": [
    "<h3> operations -> vectoriztions </h3>"
   ]
  },
  {
   "cell_type": "code",
   "execution_count": 65,
   "metadata": {
    "collapsed": false
   },
   "outputs": [],
   "source": [
    "nda9 = np.reshape(np.arange(9),(3,3))\n",
    "nda9 = nda9.astype(np.float32)"
   ]
  },
  {
   "cell_type": "code",
   "execution_count": 66,
   "metadata": {
    "collapsed": false
   },
   "outputs": [
    {
     "data": {
      "text/plain": [
       "array([[  0.,   2.,   4.],\n",
       "       [  6.,   8.,  10.],\n",
       "       [ 12.,  14.,  16.]], dtype=float32)"
      ]
     },
     "execution_count": 66,
     "metadata": {},
     "output_type": "execute_result"
    }
   ],
   "source": [
    "nda9 * 2"
   ]
  },
  {
   "cell_type": "code",
   "execution_count": 68,
   "metadata": {
    "collapsed": false
   },
   "outputs": [
    {
     "data": {
      "text/plain": [
       "array([[        inf,  1.        ,  0.5       ],\n",
       "       [ 0.33333334,  0.25      ,  0.2       ],\n",
       "       [ 0.16666667,  0.14285715,  0.125     ]], dtype=float32)"
      ]
     },
     "execution_count": 68,
     "metadata": {},
     "output_type": "execute_result"
    }
   ],
   "source": [
    "1/nda9"
   ]
  },
  {
   "cell_type": "code",
   "execution_count": 70,
   "metadata": {
    "collapsed": false
   },
   "outputs": [
    {
     "data": {
      "text/plain": [
       "array([[  0.,   1.,   4.],\n",
       "       [  9.,  16.,  25.],\n",
       "       [ 36.,  49.,  64.]], dtype=float32)"
      ]
     },
     "execution_count": 70,
     "metadata": {},
     "output_type": "execute_result"
    }
   ],
   "source": [
    "nda9 * nda9"
   ]
  },
  {
   "cell_type": "code",
   "execution_count": 72,
   "metadata": {
    "collapsed": false
   },
   "outputs": [
    {
     "data": {
      "text/plain": [
       "array([[ 0.,  0.,  0.],\n",
       "       [ 0.,  0.,  0.],\n",
       "       [ 0.,  0.,  0.]], dtype=float32)"
      ]
     },
     "execution_count": 72,
     "metadata": {},
     "output_type": "execute_result"
    }
   ],
   "source": [
    "nda9 - nda9"
   ]
  },
  {
   "cell_type": "code",
   "execution_count": 74,
   "metadata": {
    "collapsed": false
   },
   "outputs": [
    {
     "data": {
      "text/plain": [
       "array([[   0.,    1.,    8.],\n",
       "       [  27.,   64.,  125.],\n",
       "       [ 216.,  343.,  512.]], dtype=float32)"
      ]
     },
     "execution_count": 74,
     "metadata": {},
     "output_type": "execute_result"
    }
   ],
   "source": [
    "nda9 ** 3"
   ]
  },
  {
   "cell_type": "markdown",
   "metadata": {},
   "source": [
    "<h3> indexing and slicing </h3>"
   ]
  },
  {
   "cell_type": "code",
   "execution_count": 109,
   "metadata": {
    "collapsed": false
   },
   "outputs": [
    {
     "data": {
      "text/plain": [
       "array([[[ 1,  2,  3],\n",
       "        [ 4,  5,  6]],\n",
       "\n",
       "       [[ 7,  8,  9],\n",
       "        [10, 11, 12]]])"
      ]
     },
     "execution_count": 109,
     "metadata": {},
     "output_type": "execute_result"
    }
   ],
   "source": [
    "nda10 = np.reshape(np.arange(1,13),(2,2,3))\n",
    "nda10"
   ]
  },
  {
   "cell_type": "code",
   "execution_count": 99,
   "metadata": {
    "collapsed": false
   },
   "outputs": [
    {
     "data": {
      "text/plain": [
       "array([[1, 2, 3],\n",
       "       [4, 5, 6]])"
      ]
     },
     "execution_count": 99,
     "metadata": {},
     "output_type": "execute_result"
    }
   ],
   "source": [
    "nda10[0]"
   ]
  },
  {
   "cell_type": "code",
   "execution_count": 101,
   "metadata": {
    "collapsed": false
   },
   "outputs": [
    {
     "data": {
      "text/plain": [
       "array([10, 11, 12])"
      ]
     },
     "execution_count": 101,
     "metadata": {},
     "output_type": "execute_result"
    }
   ],
   "source": [
    "nda10[1,1]"
   ]
  },
  {
   "cell_type": "code",
   "execution_count": 103,
   "metadata": {
    "collapsed": false
   },
   "outputs": [
    {
     "data": {
      "text/plain": [
       "array([11, 12])"
      ]
     },
     "execution_count": 103,
     "metadata": {},
     "output_type": "execute_result"
    }
   ],
   "source": [
    "nda10[1,1,1:3]"
   ]
  },
  {
   "cell_type": "code",
   "execution_count": 105,
   "metadata": {
    "collapsed": false
   },
   "outputs": [
    {
     "data": {
      "text/plain": [
       "array([[[  1, 111,   3],\n",
       "        [  4, 111,   6]],\n",
       "\n",
       "       [[  7,   8,   9],\n",
       "        [ 10,  11,  12]]])"
      ]
     },
     "execution_count": 105,
     "metadata": {},
     "output_type": "execute_result"
    }
   ],
   "source": [
    "nda10[0,0:2,1] = 111\n",
    "nda10"
   ]
  },
  {
   "cell_type": "code",
   "execution_count": 111,
   "metadata": {
    "collapsed": false
   },
   "outputs": [
    {
     "data": {
      "text/plain": [
       "array([[[ 1,  2,  3],\n",
       "        [ 4,  5,  6]],\n",
       "\n",
       "       [[ 7, 97, 97],\n",
       "        [10, 97, 97]]])"
      ]
     },
     "execution_count": 111,
     "metadata": {},
     "output_type": "execute_result"
    }
   ],
   "source": [
    "old_values = nda10[1,0:2,1:3].copy()\n",
    "nda10[1,0:2,1:3] = 97\n",
    "nda10"
   ]
  },
  {
   "cell_type": "code",
   "execution_count": 112,
   "metadata": {
    "collapsed": false
   },
   "outputs": [
    {
     "data": {
      "text/plain": [
       "array([[ 8,  9],\n",
       "       [11, 12]])"
      ]
     },
     "execution_count": 112,
     "metadata": {},
     "output_type": "execute_result"
    }
   ],
   "source": [
    "old_values"
   ]
  },
  {
   "cell_type": "code",
   "execution_count": 114,
   "metadata": {
    "collapsed": false
   },
   "outputs": [
    {
     "data": {
      "text/plain": [
       "array([[[ 1,  2,  3],\n",
       "        [ 4,  5,  6]],\n",
       "\n",
       "       [[ 7,  8,  9],\n",
       "        [10, 11, 12]]])"
      ]
     },
     "execution_count": 114,
     "metadata": {},
     "output_type": "execute_result"
    }
   ],
   "source": [
    "nda10[1,0:2,1:3] = old_values\n",
    "nda10"
   ]
  },
  {
   "cell_type": "code",
   "execution_count": 118,
   "metadata": {
    "collapsed": false
   },
   "outputs": [
    {
     "data": {
      "text/plain": [
       "array([[[ 2,  3],\n",
       "        [ 5,  6]],\n",
       "\n",
       "       [[ 8,  9],\n",
       "        [11, 12]]])"
      ]
     },
     "execution_count": 118,
     "metadata": {},
     "output_type": "execute_result"
    }
   ],
   "source": [
    "nda10[:2,:,1:]"
   ]
  },
  {
   "cell_type": "markdown",
   "metadata": {},
   "source": [
    "<h3> boolean indexing </h3>"
   ]
  },
  {
   "cell_type": "code",
   "execution_count": 159,
   "metadata": {
    "collapsed": false
   },
   "outputs": [
    {
     "data": {
      "text/plain": [
       "array([[ 0.70289892, -0.92715303, -2.1033503 , -0.67608902,  0.0842912 ],\n",
       "       [-1.3145443 , -0.36585974, -2.14741067, -1.56845261, -0.8869444 ],\n",
       "       [-0.2222703 , -0.02807191, -0.79885142,  0.70587432, -1.46944311],\n",
       "       [ 0.20228484, -0.90229322, -0.09561124, -1.06053909,  0.90343683],\n",
       "       [-1.33536801, -1.33158336,  1.03187975,  0.29573846,  1.28809089],\n",
       "       [-0.85097884,  1.20564064,  1.8264093 , -0.06337112,  0.52247409],\n",
       "       [ 0.06006686, -0.01399043, -1.67265558, -0.09173756,  0.20266445]])"
      ]
     },
     "execution_count": 159,
     "metadata": {},
     "output_type": "execute_result"
    }
   ],
   "source": [
    "names = np.array(['gautham','ravi','kmba','cm','anand','karthik','naveen'])\n",
    "data = np.random.randn(7,5)\n",
    "data"
   ]
  },
  {
   "cell_type": "code",
   "execution_count": 161,
   "metadata": {
    "collapsed": false
   },
   "outputs": [
    {
     "data": {
      "text/plain": [
       "array([False, False, False,  True, False, False, False], dtype=bool)"
      ]
     },
     "execution_count": 161,
     "metadata": {},
     "output_type": "execute_result"
    }
   ],
   "source": [
    "names == 'cm'"
   ]
  },
  {
   "cell_type": "code",
   "execution_count": 163,
   "metadata": {
    "collapsed": false
   },
   "outputs": [
    {
     "data": {
      "text/plain": [
       "array([[-1.3145443 , -0.36585974, -2.14741067, -1.56845261, -0.8869444 ]])"
      ]
     },
     "execution_count": 163,
     "metadata": {},
     "output_type": "execute_result"
    }
   ],
   "source": [
    "data[names == 'ravi']"
   ]
  },
  {
   "cell_type": "code",
   "execution_count": 165,
   "metadata": {
    "collapsed": false
   },
   "outputs": [
    {
     "data": {
      "text/plain": [
       "array([[ 0.70289892, -0.92715303, -2.1033503 , -0.67608902,  0.0842912 ],\n",
       "       [-1.3145443 , -0.36585974, -2.14741067, -1.56845261, -0.8869444 ]])"
      ]
     },
     "execution_count": 165,
     "metadata": {},
     "output_type": "execute_result"
    }
   ],
   "source": [
    "data[(names == 'gautham') | (names == 'ravi')]"
   ]
  },
  {
   "cell_type": "code",
   "execution_count": 166,
   "metadata": {
    "collapsed": false
   },
   "outputs": [
    {
     "data": {
      "text/plain": [
       "array([[ 0.70289892,  0.        ,  0.        ,  0.        ,  0.0842912 ],\n",
       "       [ 0.        ,  0.        ,  0.        ,  0.        ,  0.        ],\n",
       "       [ 0.        ,  0.        ,  0.        ,  0.70587432,  0.        ],\n",
       "       [ 0.20228484,  0.        ,  0.        ,  0.        ,  0.90343683],\n",
       "       [ 0.        ,  0.        ,  1.03187975,  0.29573846,  1.28809089],\n",
       "       [ 0.        ,  1.20564064,  1.8264093 ,  0.        ,  0.52247409],\n",
       "       [ 0.06006686,  0.        ,  0.        ,  0.        ,  0.20266445]])"
      ]
     },
     "execution_count": 166,
     "metadata": {},
     "output_type": "execute_result"
    }
   ],
   "source": [
    "data[data<0] = 0\n",
    "data"
   ]
  },
  {
   "cell_type": "code",
   "execution_count": 167,
   "metadata": {
    "collapsed": false
   },
   "outputs": [
    {
     "data": {
      "text/plain": [
       "array([7, 4, 4, 2, 5, 7, 6])"
      ]
     },
     "execution_count": 167,
     "metadata": {},
     "output_type": "execute_result"
    }
   ],
   "source": [
    "flen = np.vectorize(len)\n",
    "flen(names)"
   ]
  },
  {
   "cell_type": "code",
   "execution_count": 168,
   "metadata": {
    "collapsed": false
   },
   "outputs": [
    {
     "data": {
      "text/plain": [
       "array([[ 0.70289892,  0.        ,  0.        ,  0.        ,  0.0842912 ],\n",
       "       [ 0.        ,  0.        ,  0.        ,  0.        ,  0.        ],\n",
       "       [ 0.        ,  0.        ,  0.        ,  0.70587432,  0.        ],\n",
       "       [ 0.20228484,  0.        ,  0.        ,  0.        ,  0.90343683],\n",
       "       [ 0.        ,  0.        ,  1.03187975,  0.29573846,  1.28809089],\n",
       "       [ 0.        ,  1.20564064,  1.8264093 ,  0.        ,  0.52247409],\n",
       "       [ 0.06006686,  0.        ,  0.        ,  0.        ,  0.20266445]])"
      ]
     },
     "execution_count": 168,
     "metadata": {},
     "output_type": "execute_result"
    }
   ],
   "source": [
    "data"
   ]
  },
  {
   "cell_type": "code",
   "execution_count": 169,
   "metadata": {
    "collapsed": false
   },
   "outputs": [
    {
     "data": {
      "text/plain": [
       "array([ 0.78719012,  0.        ,  0.70587432,  1.10572167,  2.61570911,\n",
       "        3.55452403,  0.26273131])"
      ]
     },
     "execution_count": 169,
     "metadata": {},
     "output_type": "execute_result"
    }
   ],
   "source": [
    "np.apply_along_axis(sum,1,data)"
   ]
  },
  {
   "cell_type": "code",
   "execution_count": 174,
   "metadata": {
    "collapsed": false
   },
   "outputs": [
    {
     "data": {
      "text/plain": [
       "array([[   0.7029,    0.    ,    0.    ,    0.    ,    0.0843],\n",
       "       [   0.    ,    0.    ,    0.    ,    0.    ,    0.    ],\n",
       "       [   0.    ,    0.    ,    0.    ,    0.7059,    0.    ],\n",
       "       [   0.2023,    0.    ,    0.    ,    0.    ,    0.9034],\n",
       "       [ 100.    ,  100.    ,  100.    ,  100.    ,  100.    ],\n",
       "       [ 100.    ,  100.    ,  100.    ,  100.    ,  100.    ],\n",
       "       [   0.0601,    0.    ,    0.    ,    0.    ,    0.2027]])"
      ]
     },
     "execution_count": 174,
     "metadata": {},
     "output_type": "execute_result"
    }
   ],
   "source": [
    "data[(flen(names)>3) & (np.apply_along_axis(sum,1,data)>1)] = 100\n",
    "data"
   ]
  },
  {
   "cell_type": "markdown",
   "metadata": {},
   "source": [
    "<h3> Fancy Indexing </h3>\n",
    "\n",
    "using arrays as index"
   ]
  },
  {
   "cell_type": "code",
   "execution_count": 177,
   "metadata": {
    "collapsed": false
   },
   "outputs": [
    {
     "data": {
      "text/plain": [
       "array([[ 0,  1,  2,  3,  4,  5,  6,  7],\n",
       "       [ 8,  9, 10, 11, 12, 13, 14, 15],\n",
       "       [16, 17, 18, 19, 20, 21, 22, 23],\n",
       "       [24, 25, 26, 27, 28, 29, 30, 31]])"
      ]
     },
     "execution_count": 177,
     "metadata": {},
     "output_type": "execute_result"
    }
   ],
   "source": [
    "datan = np.arange(32).reshape(4,8)\n",
    "datan"
   ]
  },
  {
   "cell_type": "code",
   "execution_count": 180,
   "metadata": {
    "collapsed": false
   },
   "outputs": [
    {
     "data": {
      "text/plain": [
       "array([[ 0,  1,  2,  3,  4,  5,  6,  7],\n",
       "       [16, 17, 18, 19, 20, 21, 22, 23],\n",
       "       [ 8,  9, 10, 11, 12, 13, 14, 15]])"
      ]
     },
     "execution_count": 180,
     "metadata": {},
     "output_type": "execute_result"
    }
   ],
   "source": [
    "datan[[0,2,1]]"
   ]
  },
  {
   "cell_type": "code",
   "execution_count": 182,
   "metadata": {
    "collapsed": false
   },
   "outputs": [
    {
     "data": {
      "text/plain": [
       "array([ 4, 23,  8])"
      ]
     },
     "execution_count": 182,
     "metadata": {},
     "output_type": "execute_result"
    }
   ],
   "source": [
    "datan[[0,2,1],[4,7,0]]"
   ]
  },
  {
   "cell_type": "code",
   "execution_count": 186,
   "metadata": {
    "collapsed": false
   },
   "outputs": [
    {
     "data": {
      "text/plain": [
       "array([[ 4,  7,  0],\n",
       "       [20, 23, 16],\n",
       "       [12, 15,  8]])"
      ]
     },
     "execution_count": 186,
     "metadata": {},
     "output_type": "execute_result"
    }
   ],
   "source": [
    "datan[[0,2,1]][:,[4,7,0]]"
   ]
  },
  {
   "cell_type": "code",
   "execution_count": 188,
   "metadata": {
    "collapsed": false
   },
   "outputs": [
    {
     "data": {
      "text/plain": [
       "array([[ 2,  7,  4,  0],\n",
       "       [10, 15, 12,  8],\n",
       "       [18, 23, 20, 16]])"
      ]
     },
     "execution_count": 188,
     "metadata": {},
     "output_type": "execute_result"
    }
   ],
   "source": [
    "datan[:,[2,7,4,0]][[0,1,2],:]"
   ]
  },
  {
   "cell_type": "markdown",
   "metadata": {},
   "source": [
    "<h3> Transpose and Swap Axes </h3>"
   ]
  },
  {
   "cell_type": "code",
   "execution_count": 190,
   "metadata": {
    "collapsed": false
   },
   "outputs": [
    {
     "data": {
      "text/plain": [
       "array([[ 0,  8, 16, 24],\n",
       "       [ 1,  9, 17, 25],\n",
       "       [ 2, 10, 18, 26],\n",
       "       [ 3, 11, 19, 27],\n",
       "       [ 4, 12, 20, 28],\n",
       "       [ 5, 13, 21, 29],\n",
       "       [ 6, 14, 22, 30],\n",
       "       [ 7, 15, 23, 31]])"
      ]
     },
     "execution_count": 190,
     "metadata": {},
     "output_type": "execute_result"
    }
   ],
   "source": [
    "datan.T"
   ]
  },
  {
   "cell_type": "code",
   "execution_count": 192,
   "metadata": {
    "collapsed": false
   },
   "outputs": [
    {
     "data": {
      "text/plain": [
       "array([[[ 0,  1,  2,  3],\n",
       "        [ 4,  5,  6,  7]],\n",
       "\n",
       "       [[ 8,  9, 10, 11],\n",
       "        [12, 13, 14, 15]]])"
      ]
     },
     "execution_count": 192,
     "metadata": {},
     "output_type": "execute_result"
    }
   ],
   "source": [
    "datan1 = np.arange(16).reshape(2,2,4)\n",
    "datan1"
   ]
  },
  {
   "cell_type": "code",
   "execution_count": 195,
   "metadata": {
    "collapsed": false
   },
   "outputs": [
    {
     "data": {
      "text/plain": [
       "array([[[ 0,  8],\n",
       "        [ 4, 12]],\n",
       "\n",
       "       [[ 1,  9],\n",
       "        [ 5, 13]],\n",
       "\n",
       "       [[ 2, 10],\n",
       "        [ 6, 14]],\n",
       "\n",
       "       [[ 3, 11],\n",
       "        [ 7, 15]]])"
      ]
     },
     "execution_count": 195,
     "metadata": {},
     "output_type": "execute_result"
    }
   ],
   "source": [
    "datan1.T #highest and the lowest axis are swapped"
   ]
  },
  {
   "cell_type": "code",
   "execution_count": 197,
   "metadata": {
    "collapsed": false
   },
   "outputs": [
    {
     "data": {
      "text/plain": [
       "array([[[ 0,  8],\n",
       "        [ 4, 12]],\n",
       "\n",
       "       [[ 1,  9],\n",
       "        [ 5, 13]],\n",
       "\n",
       "       [[ 2, 10],\n",
       "        [ 6, 14]],\n",
       "\n",
       "       [[ 3, 11],\n",
       "        [ 7, 15]]])"
      ]
     },
     "execution_count": 197,
     "metadata": {},
     "output_type": "execute_result"
    }
   ],
   "source": [
    "datan1.swapaxes(0,2)"
   ]
  },
  {
   "cell_type": "code",
   "execution_count": 199,
   "metadata": {
    "collapsed": false
   },
   "outputs": [
    {
     "data": {
      "text/plain": [
       "array([[[ 0,  4],\n",
       "        [ 1,  5],\n",
       "        [ 2,  6],\n",
       "        [ 3,  7]],\n",
       "\n",
       "       [[ 8, 12],\n",
       "        [ 9, 13],\n",
       "        [10, 14],\n",
       "        [11, 15]]])"
      ]
     },
     "execution_count": 199,
     "metadata": {},
     "output_type": "execute_result"
    }
   ],
   "source": [
    "datan1.swapaxes(1,2)"
   ]
  },
  {
   "cell_type": "markdown",
   "metadata": {},
   "source": [
    "<h3> universal fns - ufuncs </h3>"
   ]
  },
  {
   "cell_type": "code",
   "execution_count": 203,
   "metadata": {
    "collapsed": false
   },
   "outputs": [
    {
     "data": {
      "text/plain": [
       "array([0, 1, 2, 3, 4, 5, 6, 7, 8, 9])"
      ]
     },
     "execution_count": 203,
     "metadata": {},
     "output_type": "execute_result"
    }
   ],
   "source": [
    "dataf = np.arange(10)\n",
    "dataf"
   ]
  },
  {
   "cell_type": "code",
   "execution_count": 205,
   "metadata": {
    "collapsed": false
   },
   "outputs": [
    {
     "data": {
      "text/plain": [
       "array([ 0.    ,  1.    ,  1.4142,  1.7321,  2.    ,  2.2361,  2.4495,\n",
       "        2.6458,  2.8284,  3.    ])"
      ]
     },
     "execution_count": 205,
     "metadata": {},
     "output_type": "execute_result"
    }
   ],
   "source": [
    "np.sqrt(dataf)"
   ]
  },
  {
   "cell_type": "code",
   "execution_count": 207,
   "metadata": {
    "collapsed": false
   },
   "outputs": [
    {
     "data": {
      "text/plain": [
       "array([ 0,  1,  4,  9, 16, 25, 36, 49, 64, 81])"
      ]
     },
     "execution_count": 207,
     "metadata": {},
     "output_type": "execute_result"
    }
   ],
   "source": [
    "np.square(dataf)"
   ]
  },
  {
   "cell_type": "code",
   "execution_count": 209,
   "metadata": {
    "collapsed": false
   },
   "outputs": [
    {
     "data": {
      "text/plain": [
       "array([    1.    ,     2.7183,     7.3891,    20.0855,    54.5982,\n",
       "         148.4132,   403.4288,  1096.6332,  2980.958 ,  8103.0839])"
      ]
     },
     "execution_count": 209,
     "metadata": {},
     "output_type": "execute_result"
    }
   ],
   "source": [
    "np.exp(dataf)"
   ]
  },
  {
   "cell_type": "code",
   "execution_count": 211,
   "metadata": {
    "collapsed": false
   },
   "outputs": [
    {
     "data": {
      "text/plain": [
       "array([-1.8444,  0.7439, -0.722 , -2.5582, -0.4815,  0.8167,  1.3438,\n",
       "        0.9722, -0.5288, -0.6066])"
      ]
     },
     "execution_count": 211,
     "metadata": {},
     "output_type": "execute_result"
    }
   ],
   "source": [
    "df1 = np.random.randn(10)\n",
    "df2 = np.random.randn(10)\n",
    "df1"
   ]
  },
  {
   "cell_type": "code",
   "execution_count": 213,
   "metadata": {
    "collapsed": false
   },
   "outputs": [
    {
     "data": {
      "text/plain": [
       "array([-0.0607,  0.8252, -0.8662, -0.8169, -0.886 ,  0.9871,  0.8512,\n",
       "        1.6084,  0.967 , -0.7278])"
      ]
     },
     "execution_count": 213,
     "metadata": {},
     "output_type": "execute_result"
    }
   ],
   "source": [
    "df2"
   ]
  },
  {
   "cell_type": "code",
   "execution_count": 215,
   "metadata": {
    "collapsed": false
   },
   "outputs": [
    {
     "data": {
      "text/plain": [
       "array([-0.0607,  0.8252, -0.722 , -0.8169, -0.4815,  0.9871,  1.3438,\n",
       "        1.6084,  0.967 , -0.6066])"
      ]
     },
     "execution_count": 215,
     "metadata": {},
     "output_type": "execute_result"
    }
   ],
   "source": [
    "np.maximum(df1,df2)"
   ]
  },
  {
   "cell_type": "code",
   "execution_count": 218,
   "metadata": {
    "collapsed": false
   },
   "outputs": [
    {
     "data": {
      "text/plain": [
       "(array([-0.3037,  0.1259, -0.3312, -0.0844, -0.43  ,  0.9354,  0.256 ,\n",
       "         0.042 ,  0.8348, -0.6391]),\n",
       " array([-0.,  4., -4., -4., -4.,  4.,  4.,  8.,  4., -3.]))"
      ]
     },
     "execution_count": 218,
     "metadata": {},
     "output_type": "execute_result"
    }
   ],
   "source": [
    "np.modf(df2*5)"
   ]
  },
  {
   "cell_type": "markdown",
   "metadata": {},
   "source": [
    "<q> Refer pg 99 in \"python for data analytics\" for all ufuncs </q>"
   ]
  },
  {
   "cell_type": "markdown",
   "metadata": {},
   "source": [
    "<h2> Data Processing using arrays </h2>\n",
    "\n",
    "    we want to calculate sqrt(x^2 + y^2) for all pairs of x and y"
   ]
  },
  {
   "cell_type": "code",
   "execution_count": 3,
   "metadata": {
    "collapsed": false
   },
   "outputs": [
    {
     "data": {
      "text/plain": [
       "array([-5.  , -4.99, -4.98, ...,  4.98,  4.99,  5.  ])"
      ]
     },
     "execution_count": 3,
     "metadata": {},
     "output_type": "execute_result"
    }
   ],
   "source": [
    "d = np.arange(-5,5.01,0.01)\n",
    "d"
   ]
  },
  {
   "cell_type": "code",
   "execution_count": 5,
   "metadata": {
    "collapsed": false
   },
   "outputs": [
    {
     "data": {
      "text/plain": [
       "array([[-5.  , -4.99, -4.98, ...,  4.98,  4.99,  5.  ],\n",
       "       [-5.  , -4.99, -4.98, ...,  4.98,  4.99,  5.  ],\n",
       "       [-5.  , -4.99, -4.98, ...,  4.98,  4.99,  5.  ],\n",
       "       ..., \n",
       "       [-5.  , -4.99, -4.98, ...,  4.98,  4.99,  5.  ],\n",
       "       [-5.  , -4.99, -4.98, ...,  4.98,  4.99,  5.  ],\n",
       "       [-5.  , -4.99, -4.98, ...,  4.98,  4.99,  5.  ]])"
      ]
     },
     "execution_count": 5,
     "metadata": {},
     "output_type": "execute_result"
    }
   ],
   "source": [
    "xd,yd = np.meshgrid(d,d) #to get the pairs\n",
    "xd"
   ]
  },
  {
   "cell_type": "code",
   "execution_count": 6,
   "metadata": {
    "collapsed": false
   },
   "outputs": [
    {
     "data": {
      "text/plain": [
       "array([[-5.  , -5.  , -5.  , ..., -5.  , -5.  , -5.  ],\n",
       "       [-4.99, -4.99, -4.99, ..., -4.99, -4.99, -4.99],\n",
       "       [-4.98, -4.98, -4.98, ..., -4.98, -4.98, -4.98],\n",
       "       ..., \n",
       "       [ 4.98,  4.98,  4.98, ...,  4.98,  4.98,  4.98],\n",
       "       [ 4.99,  4.99,  4.99, ...,  4.99,  4.99,  4.99],\n",
       "       [ 5.  ,  5.  ,  5.  , ...,  5.  ,  5.  ,  5.  ]])"
      ]
     },
     "execution_count": 6,
     "metadata": {},
     "output_type": "execute_result"
    }
   ],
   "source": [
    "yd"
   ]
  },
  {
   "cell_type": "code",
   "execution_count": 7,
   "metadata": {
    "collapsed": false
   },
   "outputs": [
    {
     "data": {
      "text/plain": [
       "array([[ 7.07106781,  7.06400028,  7.05693985, ...,  7.05693985,\n",
       "         7.06400028,  7.07106781],\n",
       "       [ 7.06400028,  7.05692568,  7.04985815, ...,  7.04985815,\n",
       "         7.05692568,  7.06400028],\n",
       "       [ 7.05693985,  7.04985815,  7.04278354, ...,  7.04278354,\n",
       "         7.04985815,  7.05693985],\n",
       "       ..., \n",
       "       [ 7.05693985,  7.04985815,  7.04278354, ...,  7.04278354,\n",
       "         7.04985815,  7.05693985],\n",
       "       [ 7.06400028,  7.05692568,  7.04985815, ...,  7.04985815,\n",
       "         7.05692568,  7.06400028],\n",
       "       [ 7.07106781,  7.06400028,  7.05693985, ...,  7.05693985,\n",
       "         7.06400028,  7.07106781]])"
      ]
     },
     "execution_count": 7,
     "metadata": {},
     "output_type": "execute_result"
    }
   ],
   "source": [
    "ans = np.sqrt(xd**2 + yd**2)\n",
    "ans"
   ]
  },
  {
   "cell_type": "code",
   "execution_count": 9,
   "metadata": {
    "collapsed": false
   },
   "outputs": [
    {
     "data": {
      "image/png": "[encoded data removed]",
      "text/plain": [
       "<matplotlib.figure.Figure at 0x88a4430>"
      ]
     },
     "metadata": {},
     "output_type": "display_data"
    }
   ],
   "source": [
    "fig,ax = plt.subplots(figsize=(8,6))\n",
    "p = ax.pcolormesh(xd,yd,ans,alpha=0.5)\n",
    "cb = plt.colorbar(p,ax=ax)"
   ]
  },
  {
   "cell_type": "code",
   "execution_count": 10,
   "metadata": {
    "collapsed": false
   },
   "outputs": [
    {
     "data": {
      "image/png": "[encoded data removed]",
      "text/plain": [
       "<matplotlib.figure.Figure at 0x8a1b9b0>"
      ]
     },
     "metadata": {},
     "output_type": "display_data"
    }
   ],
   "source": [
    "fig,ax = plt.subplots(figsize=(8,6))\n",
    "im = ax.imshow(ans,cmap=plt.cm.gray,extent=[-5,5,-5,5])\n",
    "cb = plt.colorbar(im,ax=ax)\n"
   ]
  },
  {
   "cell_type": "code",
   "execution_count": 11,
   "metadata": {
    "collapsed": true
   },
   "outputs": [
    {
     "data": {
      "text/plain": [
       "[u'Accent',\n",
       " u'Accent_r',\n",
       " u'Blues',\n",
       " u'Blues_r',\n",
       " u'BrBG',\n",
       " u'BrBG_r',\n",
       " u'BuGn',\n",
       " u'BuGn_r',\n",
       " u'BuPu',\n",
       " u'BuPu_r',\n",
       " u'CMRmap',\n",
       " u'CMRmap_r',\n",
       " u'Dark2',\n",
       " u'Dark2_r',\n",
       " u'GnBu',\n",
       " u'GnBu_r',\n",
       " u'Greens',\n",
       " u'Greens_r',\n",
       " u'Greys',\n",
       " u'Greys_r',\n",
       " 'LUTSIZE',\n",
       " u'OrRd',\n",
       " u'OrRd_r',\n",
       " u'Oranges',\n",
       " u'Oranges_r',\n",
       " u'PRGn',\n",
       " u'PRGn_r',\n",
       " u'Paired',\n",
       " u'Paired_r',\n",
       " u'Pastel1',\n",
       " u'Pastel1_r',\n",
       " u'Pastel2',\n",
       " u'Pastel2_r',\n",
       " u'PiYG',\n",
       " u'PiYG_r',\n",
       " u'PuBu',\n",
       " u'PuBuGn',\n",
       " u'PuBuGn_r',\n",
       " u'PuBu_r',\n",
       " u'PuOr',\n",
       " u'PuOr_r',\n",
       " u'PuRd',\n",
       " u'PuRd_r',\n",
       " u'Purples',\n",
       " u'Purples_r',\n",
       " u'RdBu',\n",
       " u'RdBu_r',\n",
       " u'RdGy',\n",
       " u'RdGy_r',\n",
       " u'RdPu',\n",
       " u'RdPu_r',\n",
       " u'RdYlBu',\n",
       " u'RdYlBu_r',\n",
       " u'RdYlGn',\n",
       " u'RdYlGn_r',\n",
       " u'Reds',\n",
       " u'Reds_r',\n",
       " 'ScalarMappable',\n",
       " u'Set1',\n",
       " u'Set1_r',\n",
       " u'Set2',\n",
       " u'Set2_r',\n",
       " u'Set3',\n",
       " u'Set3_r',\n",
       " u'Spectral',\n",
       " u'Spectral_r',\n",
       " u'Wistia',\n",
       " u'Wistia_r',\n",
       " u'YlGn',\n",
       " u'YlGnBu',\n",
       " u'YlGnBu_r',\n",
       " u'YlGn_r',\n",
       " u'YlOrBr',\n",
       " u'YlOrBr_r',\n",
       " u'YlOrRd',\n",
       " u'YlOrRd_r',\n",
       " '__builtins__',\n",
       " '__doc__',\n",
       " '__file__',\n",
       " '__name__',\n",
       " '__package__',\n",
       " '_generate_cmap',\n",
       " '_reverse_cmap_spec',\n",
       " '_reverser',\n",
       " 'absolute_import',\n",
       " u'afmhot',\n",
       " u'afmhot_r',\n",
       " u'autumn',\n",
       " u'autumn_r',\n",
       " u'binary',\n",
       " u'binary_r',\n",
       " u'bone',\n",
       " u'bone_r',\n",
       " u'brg',\n",
       " u'brg_r',\n",
       " u'bwr',\n",
       " u'bwr_r',\n",
       " 'cbook',\n",
       " 'cmap_d',\n",
       " 'cmapname',\n",
       " 'cmaps_listed',\n",
       " 'colors',\n",
       " u'cool',\n",
       " u'cool_r',\n",
       " u'coolwarm',\n",
       " u'coolwarm_r',\n",
       " u'copper',\n",
       " u'copper_r',\n",
       " 'cubehelix',\n",
       " u'cubehelix_r',\n",
       " 'datad',\n",
       " 'division',\n",
       " u'flag',\n",
       " u'flag_r',\n",
       " 'get_cmap',\n",
       " u'gist_earth',\n",
       " u'gist_earth_r',\n",
       " u'gist_gray',\n",
       " u'gist_gray_r',\n",
       " u'gist_heat',\n",
       " u'gist_heat_r',\n",
       " u'gist_ncar',\n",
       " u'gist_ncar_r',\n",
       " u'gist_rainbow',\n",
       " u'gist_rainbow_r',\n",
       " u'gist_stern',\n",
       " u'gist_stern_r',\n",
       " u'gist_yarg',\n",
       " u'gist_yarg_r',\n",
       " u'gnuplot',\n",
       " u'gnuplot2',\n",
       " u'gnuplot2_r',\n",
       " u'gnuplot_r',\n",
       " u'gray',\n",
       " u'gray_r',\n",
       " u'hot',\n",
       " u'hot_r',\n",
       " u'hsv',\n",
       " u'hsv_r',\n",
       " 'inferno',\n",
       " 'inferno_r',\n",
       " u'jet',\n",
       " u'jet_r',\n",
       " 'ma',\n",
       " 'magma',\n",
       " 'magma_r',\n",
       " 'mpl',\n",
       " u'nipy_spectral',\n",
       " u'nipy_spectral_r',\n",
       " 'np',\n",
       " u'ocean',\n",
       " u'ocean_r',\n",
       " 'os',\n",
       " u'pink',\n",
       " u'pink_r',\n",
       " 'plasma',\n",
       " 'plasma_r',\n",
       " 'print_function',\n",
       " u'prism',\n",
       " u'prism_r',\n",
       " u'rainbow',\n",
       " u'rainbow_r',\n",
       " 'register_cmap',\n",
       " 'revcmap',\n",
       " u'seismic',\n",
       " u'seismic_r',\n",
       " 'six',\n",
       " 'spec',\n",
       " 'spec_reversed',\n",
       " u'spectral',\n",
       " u'spectral_r',\n",
       " u'spring',\n",
       " u'spring_r',\n",
       " u'summer',\n",
       " u'summer_r',\n",
       " u'terrain',\n",
       " u'terrain_r',\n",
       " 'unicode_literals',\n",
       " 'viridis',\n",
       " 'viridis_r',\n",
       " u'winter',\n",
       " u'winter_r']"
      ]
     },
     "execution_count": 11,
     "metadata": {},
     "output_type": "execute_result"
    }
   ],
   "source": [
    "dir(plt.cm)"
   ]
  },
  {
   "cell_type": "markdown",
   "metadata": {},
   "source": [
    "<h2> Expressing Conditional Logic as Array Operations </h2>"
   ]
  },
  {
   "cell_type": "code",
   "execution_count": 16,
   "metadata": {
    "collapsed": false
   },
   "outputs": [
    {
     "data": {
      "text/plain": [
       "array([[ 1.0488, -0.0904, -3.9097, -0.8677, -2.9286],\n",
       "       [-0.8994, -3.1987,  1.035 ,  2.9938,  3.3349],\n",
       "       [-2.8992, -1.0083,  4.4834, -4.081 , -0.2697],\n",
       "       [-5.6369, -5.9623, -0.0418, -2.3999,  1.8404],\n",
       "       [ 2.1679, -7.7934,  1.0229, -0.421 ,  8.0185]])"
      ]
     },
     "execution_count": 16,
     "metadata": {},
     "output_type": "execute_result"
    }
   ],
   "source": [
    "arr = np.random.randn(25).reshape(5,5)*5\n",
    "arr"
   ]
  },
  {
   "cell_type": "code",
   "execution_count": 18,
   "metadata": {
    "collapsed": false
   },
   "outputs": [
    {
     "data": {
      "text/plain": [
       "array([[  5,  -5, -10,  -5, -10],\n",
       "       [ -5, -10,   5,  10,  10],\n",
       "       [-10,  -5,  10, -10,  -5],\n",
       "       [-10, -10,  -5, -10,   5],\n",
       "       [ 10, -10,   5,  -5,  10]])"
      ]
     },
     "execution_count": 18,
     "metadata": {},
     "output_type": "execute_result"
    }
   ],
   "source": [
    "#if arr is x<-2 -10\n",
    "# -2<x<0 -5\n",
    "# 0=<x<2 5\n",
    "# 2=<x 10\n",
    "\n",
    "ans = np.where(arr>0,np.where(arr>=2,10,5),np.where(arr>-2,-5,-10))\n",
    "ans"
   ]
  },
  {
   "cell_type": "markdown",
   "metadata": {},
   "source": [
    "<h3> Statistical Methods </h3>"
   ]
  },
  {
   "cell_type": "code",
   "execution_count": 29,
   "metadata": {
    "collapsed": false
   },
   "outputs": [
    {
     "data": {
      "text/plain": [
       "array([[ 0,  1,  2,  3,  4,  5,  6,  7],\n",
       "       [ 8,  9, 10, 11, 12, 13, 14, 15],\n",
       "       [16, 17, 18, 19, 20, 21, 22, 23],\n",
       "       [24, 25, 26, 27, 28, 29, 30, 31]])"
      ]
     },
     "execution_count": 29,
     "metadata": {},
     "output_type": "execute_result"
    }
   ],
   "source": [
    "arr = np.arange(32).reshape(4,8)\n",
    "arr"
   ]
  },
  {
   "cell_type": "code",
   "execution_count": 26,
   "metadata": {
    "collapsed": false
   },
   "outputs": [
    {
     "data": {
      "text/plain": [
       "15.5"
      ]
     },
     "execution_count": 26,
     "metadata": {},
     "output_type": "execute_result"
    }
   ],
   "source": [
    "np.mean(arr)"
   ]
  },
  {
   "cell_type": "code",
   "execution_count": 27,
   "metadata": {
    "collapsed": false
   },
   "outputs": [
    {
     "data": {
      "text/plain": [
       "15.5"
      ]
     },
     "execution_count": 27,
     "metadata": {},
     "output_type": "execute_result"
    }
   ],
   "source": [
    "arr.mean()"
   ]
  },
  {
   "cell_type": "code",
   "execution_count": 28,
   "metadata": {
    "collapsed": false
   },
   "outputs": [
    {
     "data": {
      "text/plain": [
       "496"
      ]
     },
     "execution_count": 28,
     "metadata": {},
     "output_type": "execute_result"
    }
   ],
   "source": [
    "arr.sum()"
   ]
  },
  {
   "cell_type": "code",
   "execution_count": 34,
   "metadata": {
    "collapsed": false
   },
   "outputs": [
    {
     "data": {
      "text/plain": [
       "array([  3.5,  11.5,  19.5,  27.5])"
      ]
     },
     "execution_count": 34,
     "metadata": {},
     "output_type": "execute_result"
    }
   ],
   "source": [
    "arr.mean(axis=1)"
   ]
  },
  {
   "cell_type": "code",
   "execution_count": 36,
   "metadata": {
    "collapsed": false
   },
   "outputs": [
    {
     "data": {
      "text/plain": [
       "array([ 12.,  13.,  14.,  15.,  16.,  17.,  18.,  19.])"
      ]
     },
     "execution_count": 36,
     "metadata": {},
     "output_type": "execute_result"
    }
   ],
   "source": [
    "arr.mean(0)"
   ]
  },
  {
   "cell_type": "code",
   "execution_count": 38,
   "metadata": {
    "collapsed": false
   },
   "outputs": [
    {
     "data": {
      "text/plain": [
       "array([48, 52, 56, 60, 64, 68, 72, 76])"
      ]
     },
     "execution_count": 38,
     "metadata": {},
     "output_type": "execute_result"
    }
   ],
   "source": [
    "arr.sum(0)"
   ]
  },
  {
   "cell_type": "code",
   "execution_count": 40,
   "metadata": {
    "collapsed": false
   },
   "outputs": [
    {
     "data": {
      "text/plain": [
       "array([ 28,  92, 156, 220])"
      ]
     },
     "execution_count": 40,
     "metadata": {},
     "output_type": "execute_result"
    }
   ],
   "source": [
    "arr.sum(1)"
   ]
  },
  {
   "cell_type": "markdown",
   "metadata": {},
   "source": [
    "<h4>Method Description</h4>\n",
    "<h5>sum </h5> Sum of all the elements in the array or along an axis. Zero-length arrays have sum 0.\n",
    "<h5>mean </h5>Arithmetic mean. Zero-length arrays have NaN mean.\n",
    "<h5>std, var </h5>Standard deviation and variance, respectively, with optional degrees of freedom adjustment\n",
    "(default denominator n).\n",
    "<h5>min, max </h5>Minimum and maximum.\n",
    "<h5>argmin, argmax </h5>Indices of minimum and maximum elements, respectively.\n",
    "<h5>cumsum</h5> Cumulative sum of elements starting from 0\n",
    "<h5>cumprod </h5>Cumulative product of elements starting from 1"
   ]
  },
  {
   "cell_type": "markdown",
   "metadata": {},
   "source": [
    "<h4> Bollean Methods </h4>"
   ]
  },
  {
   "cell_type": "code",
   "execution_count": 42,
   "metadata": {
    "collapsed": false
   },
   "outputs": [
    {
     "data": {
      "text/plain": [
       "array([[ 0,  1,  2,  3,  4,  5,  6,  7],\n",
       "       [ 8,  9, 10, 11, 12, 13, 14, 15],\n",
       "       [16, 17, 18, 19, 20, 21, 22, 23],\n",
       "       [24, 25, 26, 27, 28, 29, 30, 31]])"
      ]
     },
     "execution_count": 42,
     "metadata": {},
     "output_type": "execute_result"
    }
   ],
   "source": [
    "#number of trues\n",
    "\n",
    "arr"
   ]
  },
  {
   "cell_type": "code",
   "execution_count": 44,
   "metadata": {
    "collapsed": false
   },
   "outputs": [
    {
     "data": {
      "text/plain": [
       "array([[ True, False, False,  True, False, False,  True, False],\n",
       "       [False,  True, False, False,  True, False, False,  True],\n",
       "       [False, False,  True, False, False,  True, False, False],\n",
       "       [ True, False, False,  True, False, False,  True, False]], dtype=bool)"
      ]
     },
     "execution_count": 44,
     "metadata": {},
     "output_type": "execute_result"
    }
   ],
   "source": [
    "(arr%3==0)"
   ]
  },
  {
   "cell_type": "code",
   "execution_count": 46,
   "metadata": {
    "collapsed": false
   },
   "outputs": [
    {
     "data": {
      "text/plain": [
       "11"
      ]
     },
     "execution_count": 46,
     "metadata": {},
     "output_type": "execute_result"
    }
   ],
   "source": [
    "(arr%3==0).sum()"
   ]
  },
  {
   "cell_type": "code",
   "execution_count": 48,
   "metadata": {
    "collapsed": false
   },
   "outputs": [
    {
     "data": {
      "text/plain": [
       "True"
      ]
     },
     "execution_count": 48,
     "metadata": {},
     "output_type": "execute_result"
    }
   ],
   "source": [
    "(arr%3==0).any()"
   ]
  },
  {
   "cell_type": "code",
   "execution_count": 50,
   "metadata": {
    "collapsed": false
   },
   "outputs": [
    {
     "data": {
      "text/plain": [
       "False"
      ]
     },
     "execution_count": 50,
     "metadata": {},
     "output_type": "execute_result"
    }
   ],
   "source": [
    "(arr%3==0).all()"
   ]
  },
  {
   "cell_type": "markdown",
   "metadata": {},
   "source": [
    "<h3> Sorting </h3>"
   ]
  },
  {
   "cell_type": "code",
   "execution_count": 56,
   "metadata": {
    "collapsed": false
   },
   "outputs": [
    {
     "data": {
      "text/plain": [
       "array([[-0.1214, -0.34  ,  0.4375,  0.9247, -0.5924],\n",
       "       [ 0.4737,  0.9111, -0.4609, -1.4069, -0.5758],\n",
       "       [-0.2918, -1.2047, -0.6048,  0.7108, -1.4171],\n",
       "       [ 1.5781, -0.9427,  1.1667,  0.5257, -1.4217],\n",
       "       [-0.3036, -0.0035,  1.8034, -0.9321, -1.0966],\n",
       "       [-1.2799,  0.3273, -0.4678, -1.3104, -0.4464],\n",
       "       [-2.3588, -1.2292,  0.4099, -1.406 , -0.7163],\n",
       "       [ 1.5052,  0.1609, -0.3025,  0.8003,  0.2649],\n",
       "       [-1.2463, -1.3067,  0.1271,  0.3172, -0.1539],\n",
       "       [ 0.6019,  0.6656,  0.9475, -0.7445,  0.0235]])"
      ]
     },
     "execution_count": 56,
     "metadata": {},
     "output_type": "execute_result"
    }
   ],
   "source": [
    "arr = np.random.randn(50).reshape(10,5)\n",
    "arr"
   ]
  },
  {
   "cell_type": "code",
   "execution_count": 59,
   "metadata": {
    "collapsed": false
   },
   "outputs": [
    {
     "data": {
      "text/plain": [
       "array([[-0.5924, -0.34  , -0.1214,  0.4375,  0.9247],\n",
       "       [-1.4069, -0.5758, -0.4609,  0.4737,  0.9111],\n",
       "       [-1.4171, -1.2047, -0.6048, -0.2918,  0.7108],\n",
       "       [-1.4217, -0.9427,  0.5257,  1.1667,  1.5781],\n",
       "       [-1.0966, -0.9321, -0.3036, -0.0035,  1.8034],\n",
       "       [-1.3104, -1.2799, -0.4678, -0.4464,  0.3273],\n",
       "       [-2.3588, -1.406 , -1.2292, -0.7163,  0.4099],\n",
       "       [-0.3025,  0.1609,  0.2649,  0.8003,  1.5052],\n",
       "       [-1.3067, -1.2463, -0.1539,  0.1271,  0.3172],\n",
       "       [-0.7445,  0.0235,  0.6019,  0.6656,  0.9475]])"
      ]
     },
     "execution_count": 59,
     "metadata": {},
     "output_type": "execute_result"
    }
   ],
   "source": [
    "arr.sort(1) #can be done only in one axis at once\n",
    "arr"
   ]
  },
  {
   "cell_type": "code",
   "execution_count": 63,
   "metadata": {
    "collapsed": false
   },
   "outputs": [
    {
     "data": {
      "text/plain": [
       "array([[-2.3588, -1.406 , -1.2292, -0.7163,  0.3172],\n",
       "       [-1.4217, -1.2799, -0.6048, -0.4464,  0.3273],\n",
       "       [-1.4171, -1.2463, -0.4678, -0.2918,  0.4099],\n",
       "       [-1.4069, -1.2047, -0.4609, -0.0035,  0.7108],\n",
       "       [-1.3104, -0.9427, -0.3036,  0.1271,  0.9111],\n",
       "       [-1.3067, -0.9321, -0.1539,  0.4375,  0.9247],\n",
       "       [-1.0966, -0.5758, -0.1214,  0.4737,  0.9475],\n",
       "       [-0.7445, -0.34  ,  0.2649,  0.6656,  1.5052],\n",
       "       [-0.5924,  0.0235,  0.5257,  0.8003,  1.5781],\n",
       "       [-0.3025,  0.1609,  0.6019,  1.1667,  1.8034]])"
      ]
     },
     "execution_count": 63,
     "metadata": {},
     "output_type": "execute_result"
    }
   ],
   "source": [
    "arr.sort(0)\n",
    "arr"
   ]
  },
  {
   "cell_type": "code",
   "execution_count": 72,
   "metadata": {
    "collapsed": false
   },
   "outputs": [
    {
     "data": {
      "text/plain": [
       "array([[-2.3588, -1.4217, -1.4171, -1.4069, -1.406 ],\n",
       "       [-1.3104, -1.3067, -1.2799, -1.2463, -1.2292],\n",
       "       [-1.2047, -1.0966, -0.9427, -0.9321, -0.7445],\n",
       "       [-0.7163, -0.6048, -0.5924, -0.5758, -0.4678],\n",
       "       [-0.4609, -0.4464, -0.34  , -0.3036, -0.3025],\n",
       "       [-0.2918, -0.1539, -0.1214, -0.0035,  0.0235],\n",
       "       [ 0.1271,  0.1609,  0.2649,  0.3172,  0.3273],\n",
       "       [ 0.4099,  0.4375,  0.4737,  0.5257,  0.6019],\n",
       "       [ 0.6656,  0.7108,  0.8003,  0.9111,  0.9247],\n",
       "       [ 0.9475,  1.1667,  1.5052,  1.5781,  1.8034]])"
      ]
     },
     "execution_count": 72,
     "metadata": {},
     "output_type": "execute_result"
    }
   ],
   "source": [
    "#sort all values\n",
    "arr2 = arr.reshape(1,50)\n",
    "arr2.sort()\n",
    "arr2.reshape(10,5)"
   ]
  },
  {
   "cell_type": "markdown",
   "metadata": {},
   "source": [
    "<h3> Set Operations </h3>\n",
    "<h5>unique(x)</h5> Compute the sorted, unique elements in x\n",
    "<h5>intersect1d(x, y)</h5> Compute the sorted, common elements in x and y\n",
    "<h5>union1d(x, y)</h5> Compute the sorted union of elements\n",
    "<h5>in1d(x, y)</h5> Compute a boolean array indicating whether each element of x is contained in y\n",
    "<h5>setdiff1d(x, y)</h5> Set difference, elements in x that are not in y\n",
    "<h5>setxor1d(x, y)</h5> Set symmetric differences; elements that are in either of the arrays, but not both"
   ]
  },
  {
   "cell_type": "code",
   "execution_count": 74,
   "metadata": {
    "collapsed": false
   },
   "outputs": [
    {
     "data": {
      "text/plain": [
       "array([1, 5, 5, 0, 3, 1, 2, 2, 5, 7])"
      ]
     },
     "execution_count": 74,
     "metadata": {},
     "output_type": "execute_result"
    }
   ],
   "source": [
    "arr3 = np.array([1,5,5,0,3,1,2,2,5,7])\n",
    "arr3"
   ]
  },
  {
   "cell_type": "code",
   "execution_count": 77,
   "metadata": {
    "collapsed": false
   },
   "outputs": [
    {
     "data": {
      "text/plain": [
       "array([0, 1, 2, 3, 5, 7])"
      ]
     },
     "execution_count": 77,
     "metadata": {},
     "output_type": "execute_result"
    }
   ],
   "source": [
    "np.unique(arr3)"
   ]
  },
  {
   "cell_type": "code",
   "execution_count": 79,
   "metadata": {
    "collapsed": false
   },
   "outputs": [
    {
     "data": {
      "text/plain": [
       "array([2, 3])"
      ]
     },
     "execution_count": 79,
     "metadata": {},
     "output_type": "execute_result"
    }
   ],
   "source": [
    "np.intersect1d(arr3,[2,3,4])"
   ]
  },
  {
   "cell_type": "code",
   "execution_count": 81,
   "metadata": {
    "collapsed": false
   },
   "outputs": [
    {
     "data": {
      "text/plain": [
       "array([0, 1, 4, 5, 7])"
      ]
     },
     "execution_count": 81,
     "metadata": {},
     "output_type": "execute_result"
    }
   ],
   "source": [
    "np.setxor1d(arr3,[2,3,4])"
   ]
  },
  {
   "cell_type": "markdown",
   "metadata": {},
   "source": [
    "<h3> Linear Algebra </h3>\n",
    "<h5>diag</h5> Return the diagonal (or off-diagonal) elements of a square matrix as a 1D array, or convert a 1D array into a square matrix with zeros on the off-diagonal\n",
    "<h5>dot</h5> Matrix multiplication\n",
    "<h5>trace</h5> Compute the sum of the diagonal elements\n",
    "<h5>det</h5> Compute the matrix determinant\n",
    "<h5>eig</h5> Compute the eigenvalues and eigenvectors of a square matrix\n",
    "<h5>inv</h5> Compute the inverse of a square matrix\n",
    "<h5>pinv</h5> Compute the Moore-Penrose pseudo-inverse inverse of a square matrix\n",
    "<h5>qr</h5> Compute the QR decomposition\n",
    "<h5>svd</h5> Compute the singular value decomposition (SVD)\n",
    "<h5>solve</h5> Solve the linear system Ax = b for x, where A is a square matrix\n",
    "<h5>lstsq</h5> Compute the least-squares solution to y = Xb"
   ]
  },
  {
   "cell_type": "code",
   "execution_count": 88,
   "metadata": {
    "collapsed": false
   },
   "outputs": [
    {
     "data": {
      "text/plain": [
       "array([[ 5,  6,  7],\n",
       "       [ 8,  9, 10],\n",
       "       [11, 12, 13]])"
      ]
     },
     "execution_count": 88,
     "metadata": {},
     "output_type": "execute_result"
    }
   ],
   "source": [
    "from numpy.linalg import *\n",
    "\n",
    "X = np.arange(5,14).reshape(3,3)\n",
    "X"
   ]
  },
  {
   "cell_type": "code",
   "execution_count": 89,
   "metadata": {
    "collapsed": false
   },
   "outputs": [
    {
     "data": {
      "text/plain": [
       "array([[210, 234, 258],\n",
       "       [234, 261, 288],\n",
       "       [258, 288, 318]])"
      ]
     },
     "execution_count": 89,
     "metadata": {},
     "output_type": "execute_result"
    }
   ],
   "source": [
    "X.T.dot(X)"
   ]
  },
  {
   "cell_type": "code",
   "execution_count": 96,
   "metadata": {
    "collapsed": false
   },
   "outputs": [
    {
     "data": {
      "text/plain": [
       "-1.0658141036401509e-14"
      ]
     },
     "execution_count": 96,
     "metadata": {},
     "output_type": "execute_result"
    }
   ],
   "source": [
    "det(X)"
   ]
  },
  {
   "cell_type": "code",
   "execution_count": 97,
   "metadata": {
    "collapsed": false
   },
   "outputs": [
    {
     "data": {
      "text/plain": [
       "['LinAlgError',\n",
       " 'Tester',\n",
       " '__builtins__',\n",
       " '__doc__',\n",
       " '__file__',\n",
       " '__name__',\n",
       " '__package__',\n",
       " '__path__',\n",
       " '_umath_linalg',\n",
       " 'absolute_import',\n",
       " 'bench',\n",
       " 'cholesky',\n",
       " 'cond',\n",
       " 'det',\n",
       " 'division',\n",
       " 'eig',\n",
       " 'eigh',\n",
       " 'eigvals',\n",
       " 'eigvalsh',\n",
       " 'info',\n",
       " 'inv',\n",
       " 'lapack_lite',\n",
       " 'linalg',\n",
       " 'lstsq',\n",
       " 'matrix_power',\n",
       " 'matrix_rank',\n",
       " 'multi_dot',\n",
       " 'norm',\n",
       " 'pinv',\n",
       " 'print_function',\n",
       " 'qr',\n",
       " 'slogdet',\n",
       " 'solve',\n",
       " 'svd',\n",
       " 'tensorinv',\n",
       " 'tensorsolve',\n",
       " 'test']"
      ]
     },
     "execution_count": 97,
     "metadata": {},
     "output_type": "execute_result"
    }
   ],
   "source": [
    "dir(np.linalg)"
   ]
  },
  {
   "cell_type": "markdown",
   "metadata": {},
   "source": [
    "<h3> Random Number generator </h3>"
   ]
  },
  {
   "cell_type": "code",
   "execution_count": 104,
   "metadata": {
    "collapsed": false
   },
   "outputs": [
    {
     "data": {
      "text/plain": [
       "array([ 1,  1,  1,  1,  1,  1,  1, -1, -1, -1,  1,  1,  1,  1,  1,  1, -1,\n",
       "        1,  1,  1])"
      ]
     },
     "execution_count": 104,
     "metadata": {},
     "output_type": "execute_result"
    }
   ],
   "source": [
    "steps = np.random.randint(0,2,100)\n",
    "steps[steps==0] = -1\n",
    "steps[0:20]"
   ]
  },
  {
   "cell_type": "code",
   "execution_count": 105,
   "metadata": {
    "collapsed": false
   },
   "outputs": [
    {
     "data": {
      "text/plain": [
       "array([ 1,  2,  3,  4,  5,  6,  7,  6,  5,  4,  5,  6,  7,  8,  9, 10,  9,\n",
       "       10, 11, 12, 11, 12, 13, 12, 11, 10,  9,  8,  7,  8,  7,  8,  7,  8,\n",
       "        9,  8,  7,  8,  7,  8,  7,  6,  7,  6,  7,  8,  9, 10,  9, 10,  9,\n",
       "       10, 11, 12, 11, 10, 11, 10, 11, 10, 11, 12, 13, 14, 15, 14, 13, 14,\n",
       "       15, 14, 13, 12, 13, 12, 11, 12, 13, 14, 15, 16, 15, 16, 17, 16, 15,\n",
       "       16, 17, 16, 15, 16, 17, 18, 17, 18, 17, 18, 19, 18, 17, 16])"
      ]
     },
     "execution_count": 105,
     "metadata": {},
     "output_type": "execute_result"
    }
   ],
   "source": [
    "dist = np.cumsum(steps)\n",
    "dist"
   ]
  },
  {
   "cell_type": "code",
   "execution_count": 106,
   "metadata": {
    "collapsed": false
   },
   "outputs": [
    {
     "data": {
      "text/plain": [
       "[<matplotlib.lines.Line2D at 0x8cf1d30>]"
      ]
     },
     "execution_count": 106,
     "metadata": {},
     "output_type": "execute_result"
    },
    {
     "data": {
      "image/png": "[encoded data removed]",
      "text/plain": [
       "<matplotlib.figure.Figure at 0x8c192d0>"
      ]
     },
     "metadata": {},
     "output_type": "display_data"
    }
   ],
   "source": [
    "fig,ax = plt.subplots(figsize=(10,6))\n",
    "ax.plot(dist)"
   ]
  }
 ],
 "metadata": {
  "kernelspec": {
   "display_name": "Python 2",
   "language": "python",
   "name": "python2"
  },
  "language_info": {
   "codemirror_mode": {
    "name": "ipython",
    "version": 2
   },
   "file_extension": ".py",
   "mimetype": "text/x-python",
   "name": "python",
   "nbconvert_exporter": "python",
   "pygments_lexer": "ipython2",
   "version": "2.7.11"
  }
 },
 "nbformat": 4,
 "nbformat_minor": 0
}
